{
 "cells": [
  {
   "cell_type": "markdown",
   "metadata": {},
   "source": [
    "# Convolutional Neural Networks: Application\n",
    "\n",
    "Welcome to Course 4's second assignment! In this notebook, you will:\n",
    "\n",
    "- Create a mood classifer using the TF Keras Sequential API\n",
    "- Build a ConvNet to identify sign language digits using the TF Keras Functional API\n",
    "\n",
    "**After this assignment you will be able to:**\n",
    "\n",
    "- Build and train a ConvNet in TensorFlow for a __binary__ classification problem\n",
    "- Build and train a ConvNet in TensorFlow for a __multiclass__ classification problem\n",
    "- Explain different use cases for the Sequential and Functional APIs\n",
    "\n",
    "To complete this assignment, you should already be familiar with TensorFlow. If you are not, please refer back to the **TensorFlow Tutorial** of the third week of Course 2 (\"**Improving deep neural networks**\")."
   ]
  },
  {
   "cell_type": "markdown",
   "metadata": {},
   "source": [
    "## Table of Contents\n",
    "\n",
    "- [1 - Packages](#1)\n",
    "    - [1.1 - Load the Data and Split the Data into Train/Test Sets](#1-1)\n",
    "- [2 - Layers in TF Keras](#2)\n",
    "- [3 - The Sequential API](#3)\n",
    "    - [3.1 - Create the Sequential Model](#3-1)\n",
    "        - [Exercise 1 - happyModel](#ex-1)\n",
    "    - [3.2 - Train and Evaluate the Model](#3-2)\n",
    "- [4 - The Functional API](#4)\n",
    "    - [4.1 - Load the SIGNS Dataset](#4-1)\n",
    "    - [4.2 - Split the Data into Train/Test Sets](#4-2)\n",
    "    - [4.3 - Forward Propagation](#4-3)\n",
    "        - [Exercise 2 - convolutional_model](#ex-2)\n",
    "    - [4.4 - Train the Model](#4-4)\n",
    "- [5 - History Object](#5)\n",
    "- [6 - Bibliography](#6)"
   ]
  },
  {
   "cell_type": "markdown",
   "metadata": {},
   "source": [
    "<a name='1'></a>\n",
    "## 1 - Packages\n",
    "\n",
    "As usual, begin by loading in the packages."
   ]
  },
  {
   "cell_type": "code",
   "execution_count": 1,
   "metadata": {},
   "outputs": [],
   "source": [
    "import math\n",
    "import numpy as np\n",
    "import h5py\n",
    "import matplotlib.pyplot as plt\n",
    "from matplotlib.pyplot import imread\n",
    "import scipy\n",
    "from PIL import Image\n",
    "import pandas as pd\n",
    "import tensorflow as tf\n",
    "import tensorflow.keras.layers as tfl\n",
    "from tensorflow.python.framework import ops\n",
    "from cnn_utils import *\n",
    "from test_utils import summary, comparator\n",
    "\n",
    "%matplotlib inline\n",
    "np.random.seed(1)"
   ]
  },
  {
   "cell_type": "markdown",
   "metadata": {},
   "source": [
    "<a name='1-1'></a>\n",
    "### 1.1 - Load the Data and Split the Data into Train/Test Sets\n",
    "\n",
    "You'll be using the Happy House dataset for this part of the assignment, which contains images of peoples' faces. Your task will be to build a ConvNet that determines whether the people in the images are smiling or not -- because they only get to enter the house if they're smiling!  "
   ]
  },
  {
   "cell_type": "code",
   "execution_count": 2,
   "metadata": {},
   "outputs": [
    {
     "name": "stdout",
     "output_type": "stream",
     "text": [
      "number of training examples = 600\n",
      "number of test examples = 150\n",
      "X_train shape: (600, 64, 64, 3)\n",
      "Y_train shape: (600, 1)\n",
      "X_test shape: (150, 64, 64, 3)\n",
      "Y_test shape: (150, 1)\n"
     ]
    }
   ],
   "source": [
    "X_train_orig, Y_train_orig, X_test_orig, Y_test_orig, classes = load_happy_dataset()\n",
    "\n",
    "# Normalize image vectors\n",
    "X_train = X_train_orig/255.\n",
    "X_test = X_test_orig/255.\n",
    "\n",
    "# Reshape\n",
    "Y_train = Y_train_orig.T\n",
    "Y_test = Y_test_orig.T\n",
    "\n",
    "print (\"number of training examples = \" + str(X_train.shape[0]))\n",
    "print (\"number of test examples = \" + str(X_test.shape[0]))\n",
    "print (\"X_train shape: \" + str(X_train.shape))\n",
    "print (\"Y_train shape: \" + str(Y_train.shape))\n",
    "print (\"X_test shape: \" + str(X_test.shape))\n",
    "print (\"Y_test shape: \" + str(Y_test.shape))"
   ]
  },
  {
   "cell_type": "markdown",
   "metadata": {},
   "source": [
    "You can display the images contained in the dataset. Images are **64x64** pixels in RGB format (3 channels)."
   ]
  },
  {
   "cell_type": "code",
   "execution_count": 3,
   "metadata": {},
   "outputs": [
    {
     "data": {
      "image/png": "[encoded data removed]",
      "text/plain": [
       "<Figure size 432x288 with 1 Axes>"
      ]
     },
     "metadata": {
      "needs_background": "light"
     },
     "output_type": "display_data"
    }
   ],
   "source": [
    "index = 124\n",
    "plt.imshow(X_train_orig[index]) #display sample training image\n",
    "plt.show()"
   ]
  },
  {
   "cell_type": "markdown",
   "metadata": {},
   "source": [
    "<a name='2'></a>\n",
    "## 2 - Layers in TF Keras \n",
    "\n",
    "In the previous assignment, you created layers manually in numpy. In TF Keras, you don't have to write code directly to create layers. Rather, TF Keras has pre-defined layers you can use. \n",
    "\n",
    "When you create a layer in TF Keras, you are creating a function that takes some input and transforms it into an output you can reuse later. Nice and easy! "
   ]
  },
  {
   "cell_type": "markdown",
   "metadata": {},
   "source": [
    "<a name='3'></a>\n",
    "## 3 - The Sequential API\n",
    "\n",
    "In the previous assignment, you built helper functions using `numpy` to understand the mechanics behind convolutional neural networks. Most practical applications of deep learning today are built using programming frameworks, which have many built-in functions you can simply call. Keras is a high-level abstraction built on top of TensorFlow, which allows for even more simplified and optimized model creation and training. \n",
    "\n",
    "For the first part of this assignment, you'll create a model using TF Keras' Sequential API, which allows you to build layer by layer, and is ideal for building models where each layer has **exactly one** input tensor and **one** output tensor. \n",
    "\n",
    "As you'll see, using the Sequential API is simple and straightforward, but is only appropriate for simpler, more straightforward tasks. Later in this notebook you'll spend some time building with a more flexible, powerful alternative: the Functional API. \n",
    " "
   ]
  },
  {
   "cell_type": "markdown",
   "metadata": {},
   "source": [
    "<a name='3-1'></a>\n",
    "### 3.1 - Create the Sequential Model\n",
    "\n",
    "As mentioned earlier, the TensorFlow Keras Sequential API can be used to build simple models with layer operations that proceed in a sequential order. \n",
    "\n",
    "You can also add layers incrementally to a Sequential model with the `.add()` method, or remove them using the `.pop()` method, much like you would in a regular Python list.\n",
    "\n",
    "Actually, you can think of a Sequential model as behaving like a list of layers. Like Python lists, Sequential layers are ordered, and the order in which they are specified matters.  If your model is non-linear or contains layers with multiple inputs or outputs, a Sequential model wouldn't be the right choice!\n",
    "\n",
    "For any layer construction in Keras, you'll need to specify the input shape in advance. This is because in Keras, the shape of the weights is based on the shape of the inputs. The weights are only created when the model first sees some input data. Sequential models can be created by passing a list of layers to the Sequential constructor, like you will do in the next assignment.\n",
    "\n",
    "<a name='ex-1'></a>\n",
    "### Exercise 1 - happyModel\n",
    "\n",
    "Implement the `happyModel` function below to build the following model: `ZEROPAD2D -> CONV2D -> BATCHNORM -> RELU -> MAXPOOL -> FLATTEN -> DENSE`. Take help from [tf.keras.layers](https://www.tensorflow.org/api_docs/python/tf/keras/layers) \n",
    "\n",
    "Also, plug in the following parameters for all the steps:\n",
    "\n",
    " - [ZeroPadding2D](https://www.tensorflow.org/api_docs/python/tf/keras/layers/ZeroPadding2D): padding 3, input shape 64 x 64 x 3\n",
    " - [Conv2D](https://www.tensorflow.org/api_docs/python/tf/keras/layers/Conv2D): Use 32 7x7 filters, stride 1\n",
    " - [BatchNormalization](https://www.tensorflow.org/api_docs/python/tf/keras/layers/BatchNormalization): for axis 3\n",
    " - [ReLU](https://www.tensorflow.org/api_docs/python/tf/keras/layers/ReLU)\n",
    " - [MaxPool2D](https://www.tensorflow.org/api_docs/python/tf/keras/layers/MaxPool2D): Using default parameters\n",
    " - [Flatten](https://www.tensorflow.org/api_docs/python/tf/keras/layers/Flatten) the previous output.\n",
    " - Fully-connected ([Dense](https://www.tensorflow.org/api_docs/python/tf/keras/layers/Dense)) layer: Apply a fully connected layer with 1 neuron and a sigmoid activation. \n",
    " \n",
    " \n",
    " **Hint:**\n",
    " \n",
    " Use **tfl** as shorthand for **tensorflow.keras.layers**"
   ]
  },
  {
   "cell_type": "code",
   "execution_count": 4,
   "metadata": {
    "deletable": false,
    "nbgrader": {
     "cell_type": "code",
     "checksum": "95d28b191f257bdd5b70c7b8952559d5",
     "grade": false,
     "grade_id": "cell-0e56d3fc28b69aec",
     "locked": false,
     "schema_version": 3,
     "solution": true,
     "task": false
    }
   },
   "outputs": [],
   "source": [
    "# GRADED FUNCTION: happyModel\n",
    "\n",
    "def happyModel():\n",
    "    \"\"\"\n",
    "    Implements the forward propagation for the binary classification model:\n",
    "    ZEROPAD2D -> CONV2D -> BATCHNORM -> RELU -> MAXPOOL -> FLATTEN -> DENSE\n",
    "    \n",
    "    Note that for simplicity and grading purposes, you'll hard-code all the values\n",
    "    such as the stride and kernel (filter) sizes. \n",
    "    Normally, functions should take these values as function parameters.\n",
    "    \n",
    "    Arguments:\n",
    "    None\n",
    "\n",
    "    Returns:\n",
    "    model -- TF Keras model (object containing the information for the entire training process) \n",
    "    \"\"\"\n",
    "    model = tf.keras.Sequential([\n",
    "            ## ZeroPadding2D with padding 3, input shape of 64 x 64 x 3\n",
    "            \n",
    "            ## Conv2D with 32 7x7 filters and stride of 1\n",
    "            \n",
    "            ## BatchNormalization for axis 3\n",
    "            \n",
    "            ## ReLU\n",
    "            \n",
    "            ## Max Pooling 2D with default parameters\n",
    "            \n",
    "            ## Flatten layer\n",
    "            \n",
    "            ## Dense layer with 1 unit for output & 'sigmoid' activation\n",
    "            \n",
    "            # YOUR CODE STARTS HERE\n",
    "            tfl.ZeroPadding2D(padding = 3, input_shape = (64,64,3)),\n",
    "            tfl.Conv2D(32, 7),\n",
    "            tfl.BatchNormalization(),\n",
    "            tfl.ReLU(),\n",
    "            tfl.MaxPool2D(),\n",
    "            tfl.Flatten(),\n",
    "            tfl.Dense(1, activation = 'sigmoid')\n",
    "            \n",
    "            # YOUR CODE ENDS HERE\n",
    "        ])\n",
    "    \n",
    "    return model"
   ]
  },
  {
   "cell_type": "code",
   "execution_count": 5,
   "metadata": {
    "deletable": false,
    "editable": false,
    "nbgrader": {
     "cell_type": "code",
     "checksum": "8d3575c950e2e78149be2d05d671c80d",
     "grade": true,
     "grade_id": "cell-e3e1046e5c33d775",
     "locked": true,
     "points": 10,
     "schema_version": 3,
     "solution": false,
     "task": false
    }
   },
   "outputs": [
    {
     "name": "stdout",
     "output_type": "stream",
     "text": [
      "['ZeroPadding2D', (None, 70, 70, 3), 0, ((3, 3), (3, 3))]\n",
      "['Conv2D', (None, 64, 64, 32), 4736, 'valid', 'linear', 'GlorotUniform']\n",
      "['BatchNormalization', (None, 64, 64, 32), 128]\n",
      "['ReLU', (None, 64, 64, 32), 0]\n",
      "['MaxPooling2D', (None, 32, 32, 32), 0, (2, 2), (2, 2), 'valid']\n",
      "['Flatten', (None, 32768), 0]\n",
      "['Dense', (None, 1), 32769, 'sigmoid']\n",
      "\u001b[32mAll tests passed!\u001b[0m\n"
     ]
    }
   ],
   "source": [
    "happy_model = happyModel()\n",
    "# Print a summary for each layer\n",
    "for layer in summary(happy_model):\n",
    "    print(layer)\n",
    "    \n",
    "output = [['ZeroPadding2D', (None, 70, 70, 3), 0, ((3, 3), (3, 3))],\n",
    "            ['Conv2D', (None, 64, 64, 32), 4736, 'valid', 'linear', 'GlorotUniform'],\n",
    "            ['BatchNormalization', (None, 64, 64, 32), 128],\n",
    "            ['ReLU', (None, 64, 64, 32), 0],\n",
    "            ['MaxPooling2D', (None, 32, 32, 32), 0, (2, 2), (2, 2), 'valid'],\n",
    "            ['Flatten', (None, 32768), 0],\n",
    "            ['Dense', (None, 1), 32769, 'sigmoid']]\n",
    "    \n",
    "comparator(summary(happy_model), output)"
   ]
  },
  {
   "cell_type": "markdown",
   "metadata": {},
   "source": [
    "Now that your model is created, you can compile it for training with an optimizer and loss of your choice. When the string `accuracy` is specified as a metric, the type of accuracy used will be automatically converted based on the loss function used. This is one of the many optimizations built into TensorFlow that make your life easier! If you'd like to read more on how the compiler operates, check the docs [here](https://www.tensorflow.org/api_docs/python/tf/keras/Model#compile)."
   ]
  },
  {
   "cell_type": "code",
   "execution_count": 6,
   "metadata": {},
   "outputs": [],
   "source": [
    "happy_model.compile(optimizer='adam',\n",
    "                   loss='binary_crossentropy',\n",
    "                   metrics=['accuracy'])"
   ]
  },
  {
   "cell_type": "markdown",
   "metadata": {},
   "source": [
    "It's time to check your model's parameters with the `.summary()` method. This will display the types of layers you have, the shape of the outputs, and how many parameters are in each layer. "
   ]
  },
  {
   "cell_type": "code",
   "execution_count": 7,
   "metadata": {},
   "outputs": [
    {
     "name": "stdout",
     "output_type": "stream",
     "text": [
      "Model: \"sequential\"\n",
      "_________________________________________________________________\n",
      "Layer (type)                 Output Shape              Param #   \n",
      "=================================================================\n",
      "zero_padding2d (ZeroPadding2 (None, 70, 70, 3)         0         \n",
      "_________________________________________________________________\n",
      "conv2d (Conv2D)              (None, 64, 64, 32)        4736      \n",
      "_________________________________________________________________\n",
      "batch_normalization (BatchNo (None, 64, 64, 32)        128       \n",
      "_________________________________________________________________\n",
      "re_lu (ReLU)                 (None, 64, 64, 32)        0         \n",
      "_________________________________________________________________\n",
      "max_pooling2d (MaxPooling2D) (None, 32, 32, 32)        0         \n",
      "_________________________________________________________________\n",
      "flatten (Flatten)            (None, 32768)             0         \n",
      "_________________________________________________________________\n",
      "dense (Dense)                (None, 1)                 32769     \n",
      "=================================================================\n",
      "Total params: 37,633\n",
      "Trainable params: 37,569\n",
      "Non-trainable params: 64\n",
      "_________________________________________________________________\n"
     ]
    }
   ],
   "source": [
    "happy_model.summary()"
   ]
  },
  {
   "cell_type": "markdown",
   "metadata": {},
   "source": [
    "<a name='3-2'></a>\n",
    "### 3.2 - Train and Evaluate the Model\n",
    "\n",
    "After creating the model, compiling it with your choice of optimizer and loss function, and doing a sanity check on its contents, you are now ready to build! \n",
    "\n",
    "Simply call `.fit()` to train. That's it! No need for mini-batching, saving, or complex backpropagation computations. That's all been done for you, as you're using a TensorFlow dataset with the batches specified already. You do have the option to specify epoch number or minibatch size if you like (for example, in the case of an un-batched dataset)."
   ]
  },
  {
   "cell_type": "code",
   "execution_count": 8,
   "metadata": {},
   "outputs": [
    {
     "name": "stdout",
     "output_type": "stream",
     "text": [
      "Epoch 1/10\n",
      "38/38 [==============================] - 4s 95ms/step - loss: 1.0893 - accuracy: 0.7050\n",
      "Epoch 2/10\n",
      "38/38 [==============================] - 3s 90ms/step - loss: 0.2209 - accuracy: 0.9183\n",
      "Epoch 3/10\n",
      "38/38 [==============================] - 4s 92ms/step - loss: 0.1368 - accuracy: 0.9467\n",
      "Epoch 4/10\n",
      "38/38 [==============================] - 3s 92ms/step - loss: 0.2190 - accuracy: 0.9150\n",
      "Epoch 5/10\n",
      "38/38 [==============================] - 3s 90ms/step - loss: 0.2228 - accuracy: 0.9117\n",
      "Epoch 6/10\n",
      "38/38 [==============================] - 3s 92ms/step - loss: 0.1110 - accuracy: 0.9483\n",
      "Epoch 7/10\n",
      "38/38 [==============================] - 3s 89ms/step - loss: 0.1204 - accuracy: 0.9517\n",
      "Epoch 8/10\n",
      "38/38 [==============================] - 3s 89ms/step - loss: 0.0723 - accuracy: 0.9750\n",
      "Epoch 9/10\n",
      "38/38 [==============================] - 3s 90ms/step - loss: 0.0910 - accuracy: 0.9717\n",
      "Epoch 10/10\n",
      "38/38 [==============================] - 3s 89ms/step - loss: 0.1138 - accuracy: 0.9633\n"
     ]
    },
    {
     "data": {
      "text/plain": [
       "<tensorflow.python.keras.callbacks.History at 0x7f3111812590>"
      ]
     },
     "execution_count": 8,
     "metadata": {},
     "output_type": "execute_result"
    }
   ],
   "source": [
    "happy_model.fit(X_train, Y_train, epochs=10, batch_size=16)"
   ]
  },
  {
   "cell_type": "markdown",
   "metadata": {},
   "source": [
    "After that completes, just use `.evaluate()` to evaluate against your test set. This function will print the value of the loss function and the performance metrics specified during the compilation of the model. In this case, the `binary_crossentropy` and the `accuracy` respectively."
   ]
  },
  {
   "cell_type": "code",
   "execution_count": 9,
   "metadata": {},
   "outputs": [
    {
     "name": "stdout",
     "output_type": "stream",
     "text": [
      "5/5 [==============================] - 0s 31ms/step - loss: 0.2270 - accuracy: 0.8800\n"
     ]
    },
    {
     "data": {
      "text/plain": [
       "[0.22698509693145752, 0.8799999952316284]"
      ]
     },
     "execution_count": 9,
     "metadata": {},
     "output_type": "execute_result"
    }
   ],
   "source": [
    "happy_model.evaluate(X_test, Y_test)"
   ]
  },
  {
   "cell_type": "markdown",
   "metadata": {},
   "source": [
    "Easy, right? But what if you need to build a model with shared layers, branches, or multiple inputs and outputs? This is where Sequential, with its beautifully simple yet limited functionality, won't be able to help you. \n",
    "\n",
    "Next up: Enter the Functional API, your slightly more complex, highly flexible friend.  "
   ]
  },
  {
   "cell_type": "markdown",
   "metadata": {},
   "source": [
    "<a name='4'></a>\n",
    "## 4 - The Functional API"
   ]
  },
  {
   "cell_type": "markdown",
   "metadata": {},
   "source": [
    "Welcome to the second half of the assignment, where you'll use Keras' flexible [Functional API](https://www.tensorflow.org/guide/keras/functional) to build a ConvNet that can differentiate between 6 sign language digits. \n",
    "\n",
    "The Functional API can handle models with non-linear topology, shared layers, as well as layers with multiple inputs or outputs. Imagine that, where the Sequential API requires the model to move in a linear fashion through its layers, the Functional API allows much more flexibility. Where Sequential is a straight line, a Functional model is a graph, where the nodes of the layers can connect in many more ways than one. \n",
    "\n",
    "In the visual example below, the one possible direction of the movement Sequential model is shown in contrast to a skip connection, which is just one of the many ways a Functional model can be constructed. A skip connection, as you might have guessed, skips some layer in the network and feeds the output to a later layer in the network. Don't worry, you'll be spending more time with skip connections very soon! "
   ]
  },
  {
   "cell_type": "markdown",
   "metadata": {},
   "source": [
    "<img src=\"images/seq_vs_func.png\" style=\"width:350px;height:200px;\">"
   ]
  },
  {
   "cell_type": "markdown",
   "metadata": {},
   "source": [
    "<a name='4-1'></a>\n",
    "### 4.1 - Load the SIGNS Dataset\n",
    "\n",
    "As a reminder, the SIGNS dataset is a collection of 6 signs representing numbers from 0 to 5."
   ]
  },
  {
   "cell_type": "code",
   "execution_count": 10,
   "metadata": {},
   "outputs": [],
   "source": [
    "# Loading the data (signs)\n",
    "X_train_orig, Y_train_orig, X_test_orig, Y_test_orig, classes = load_signs_dataset()"
   ]
  },
  {
   "cell_type": "markdown",
   "metadata": {},
   "source": [
    "<img src=\"images/SIGNS.png\" style=\"width:800px;height:300px;\">\n",
    "\n",
    "The next cell will show you an example of a labelled image in the dataset. Feel free to change the value of `index` below and re-run to see different examples. "
   ]
  },
  {
   "cell_type": "code",
   "execution_count": 11,
   "metadata": {},
   "outputs": [
    {
     "name": "stdout",
     "output_type": "stream",
     "text": [
      "y = 4\n"
     ]
    },
    {
     "data": {
      "image/png": "[encoded data removed]",
      "text/plain": [
       "<Figure size 432x288 with 1 Axes>"
      ]
     },
     "metadata": {
      "needs_background": "light"
     },
     "output_type": "display_data"
    }
   ],
   "source": [
    "# Example of an image from the dataset\n",
    "index = 9\n",
    "plt.imshow(X_train_orig[index])\n",
    "print (\"y = \" + str(np.squeeze(Y_train_orig[:, index])))"
   ]
  },
  {
   "cell_type": "markdown",
   "metadata": {},
   "source": [
    "<a name='4-2'></a>\n",
    "### 4.2 - Split the Data into Train/Test Sets\n",
    "\n",
    "In Course 2, you built a fully-connected network for this dataset. But since this is an image dataset, it is more natural to apply a ConvNet to it.\n",
    "\n",
    "To get started, let's examine the shapes of your data. "
   ]
  },
  {
   "cell_type": "code",
   "execution_count": 12,
   "metadata": {},
   "outputs": [
    {
     "name": "stdout",
     "output_type": "stream",
     "text": [
      "number of training examples = 1080\n",
      "number of test examples = 120\n",
      "X_train shape: (1080, 64, 64, 3)\n",
      "Y_train shape: (1080, 6)\n",
      "X_test shape: (120, 64, 64, 3)\n",
      "Y_test shape: (120, 6)\n"
     ]
    }
   ],
   "source": [
    "X_train = X_train_orig/255.\n",
    "X_test = X_test_orig/255.\n",
    "Y_train = convert_to_one_hot(Y_train_orig, 6).T\n",
    "Y_test = convert_to_one_hot(Y_test_orig, 6).T\n",
    "print (\"number of training examples = \" + str(X_train.shape[0]))\n",
    "print (\"number of test examples = \" + str(X_test.shape[0]))\n",
    "print (\"X_train shape: \" + str(X_train.shape))\n",
    "print (\"Y_train shape: \" + str(Y_train.shape))\n",
    "print (\"X_test shape: \" + str(X_test.shape))\n",
    "print (\"Y_test shape: \" + str(Y_test.shape))"
   ]
  },
  {
   "cell_type": "markdown",
   "metadata": {},
   "source": [
    "<a name='4-3'></a>\n",
    "### 4.3 - Forward Propagation\n",
    "\n",
    "In TensorFlow, there are built-in functions that implement the convolution steps for you. By now, you should be familiar with how TensorFlow builds computational graphs. In the [Functional API](https://www.tensorflow.org/guide/keras/functional), you create a graph of layers. This is what allows such great flexibility.\n",
    "\n",
    "However, the following model could also be defined using the Sequential API since the information flow is on a single line. But don't deviate. What we want you to learn is to use the functional API.\n",
    "\n",
    "Begin building your graph of layers by creating an input node that functions as a callable object:\n",
    "\n",
    "- **input_img = tf.keras.Input(shape=input_shape):** \n",
    "\n",
    "Then, create a new node in the graph of layers by calling a layer on the `input_img` object: \n",
    "\n",
    "- **tf.keras.layers.Conv2D(filters= ... , kernel_size= ... , padding='same')(input_img):** Read the full documentation on [Conv2D](https://www.tensorflow.org/api_docs/python/tf/keras/layers/Conv2D).\n",
    "\n",
    "- **tf.keras.layers.MaxPool2D(pool_size=(f, f), strides=(s, s), padding='same'):** `MaxPool2D()` downsamples your input using a window of size (f, f) and strides of size (s, s) to carry out max pooling over each window.  For max pooling, you usually operate on a single example at a time and a single channel at a time. Read the full documentation on [MaxPool2D](https://www.tensorflow.org/api_docs/python/tf/keras/layers/MaxPool2D).\n",
    "\n",
    "- **tf.keras.layers.ReLU():** computes the elementwise ReLU of Z (which can be any shape). You can read the full documentation on [ReLU](https://www.tensorflow.org/api_docs/python/tf/keras/layers/ReLU).\n",
    "\n",
    "- **tf.keras.layers.Flatten()**: given a tensor \"P\", this function takes each training (or test) example in the batch and flattens it into a 1D vector.  \n",
    "\n",
    "    * If a tensor P has the shape (batch_size,h,w,c), it returns a flattened tensor with shape (batch_size, k), where $k=h \\times w \\times c$.  \"k\" equals the product of all the dimension sizes other than the first dimension.\n",
    "    \n",
    "    * For example, given a tensor with dimensions [100, 2, 3, 4], it flattens the tensor to be of shape [100, 24], where 24 = 2 * 3 * 4.  You can read the full documentation on [Flatten](https://www.tensorflow.org/api_docs/python/tf/keras/layers/Flatten).\n",
    "\n",
    "- **tf.keras.layers.Dense(units= ... , activation='softmax')(F):** given the flattened input F, it returns the output computed using a fully connected layer. You can read the full documentation on [Dense](https://www.tensorflow.org/api_docs/python/tf/keras/layers/Dense).\n",
    "\n",
    "In the last function above (`tf.keras.layers.Dense()`), the fully connected layer automatically initializes weights in the graph and keeps on training them as you train the model. Hence, you did not need to initialize those weights when initializing the parameters.\n",
    "\n",
    "Lastly, before creating the model, you'll need to define the output using the last of the function's compositions (in this example, a Dense layer): \n",
    "\n",
    "- **outputs = tf.keras.layers.Dense(units=6, activation='softmax')(F)**\n",
    "\n",
    "\n",
    "#### Window, kernel, filter, pool\n",
    "\n",
    "The words \"kernel\" and \"filter\" are used to refer to the same thing. The word \"filter\" accounts for the amount of \"kernels\" that will be used in a single convolution layer. \"Pool\" is the name of the operation that takes the max or average value of the kernels. \n",
    "\n",
    "This is why the parameter `pool_size` refers to `kernel_size`, and you use `(f,f)` to refer to the filter size. \n",
    "\n",
    "Pool size and kernel size refer to the same thing in different objects - They refer to the shape of the window where the operation takes place. "
   ]
  },
  {
   "cell_type": "markdown",
   "metadata": {},
   "source": [
    "<a name='ex-2'></a>\n",
    "### Exercise 2 - convolutional_model\n",
    "\n",
    "Implement the `convolutional_model` function below to build the following model: `CONV2D -> RELU -> MAXPOOL -> CONV2D -> RELU -> MAXPOOL -> FLATTEN -> DENSE`. Use the functions above! \n",
    "\n",
    "Also, plug in the following parameters for all the steps:\n",
    "\n",
    " - [Conv2D](https://www.tensorflow.org/api_docs/python/tf/keras/layers/Conv2D): Use 8 4 by 4 filters, stride 1, padding is \"SAME\"\n",
    " - [ReLU](https://www.tensorflow.org/api_docs/python/tf/keras/layers/ReLU)\n",
    " - [MaxPool2D](https://www.tensorflow.org/api_docs/python/tf/keras/layers/MaxPool2D): Use an 8 by 8 filter size and an 8 by 8 stride, padding is \"SAME\"\n",
    " - **Conv2D**: Use 16 2 by 2 filters, stride 1, padding is \"SAME\"\n",
    " - **ReLU**\n",
    " - **MaxPool2D**: Use a 4 by 4 filter size and a 4 by 4 stride, padding is \"SAME\"\n",
    " - [Flatten](https://www.tensorflow.org/api_docs/python/tf/keras/layers/Flatten) the previous output.\n",
    " - Fully-connected ([Dense](https://www.tensorflow.org/api_docs/python/tf/keras/layers/Dense)) layer: Apply a fully connected layer with 6 neurons and a softmax activation. "
   ]
  },
  {
   "cell_type": "code",
   "execution_count": 16,
   "metadata": {
    "deletable": false,
    "nbgrader": {
     "cell_type": "code",
     "checksum": "f58643806aa8380c96225fc8b4c5e7aa",
     "grade": false,
     "grade_id": "cell-dac51744a9e03f51",
     "locked": false,
     "schema_version": 3,
     "solution": true,
     "task": false
    }
   },
   "outputs": [],
   "source": [
    "# GRADED FUNCTION: convolutional_model\n",
    "\n",
    "def convolutional_model(input_shape):\n",
    "    \"\"\"\n",
    "    Implements the forward propagation for the model:\n",
    "    CONV2D -> RELU -> MAXPOOL -> CONV2D -> RELU -> MAXPOOL -> FLATTEN -> DENSE\n",
    "    \n",
    "    Note that for simplicity and grading purposes, you'll hard-code some values\n",
    "    such as the stride and kernel (filter) sizes. \n",
    "    Normally, functions should take these values as function parameters.\n",
    "    \n",
    "    Arguments:\n",
    "    input_img -- input dataset, of shape (input_shape)\n",
    "\n",
    "    Returns:\n",
    "    model -- TF Keras model (object containing the information for the entire training process) \n",
    "    \"\"\"\n",
    "\n",
    "    input_img = tf.keras.Input(shape=input_shape)\n",
    "    ## CONV2D: 8 filters 4x4, stride of 1, padding 'SAME'\n",
    "    # Z1 = None\n",
    "    ## RELU\n",
    "    # A1 = None\n",
    "    ## MAXPOOL: window 8x8, stride 8, padding 'SAME'\n",
    "    # P1 = None\n",
    "    ## CONV2D: 16 filters 2x2, stride 1, padding 'SAME'\n",
    "    # Z2 = None\n",
    "    ## RELU\n",
    "    # A2 = None\n",
    "    ## MAXPOOL: window 4x4, stride 4, padding 'SAME'\n",
    "    # P2 = None\n",
    "    ## FLATTEN\n",
    "    # F = None\n",
    "    ## Dense layer\n",
    "    ## 6 neurons in output layer. Hint: one of the arguments should be \"activation='softmax'\" \n",
    "    # outputs = None\n",
    "    # YOUR CODE STARTS HERE\n",
    "    Z1 = tfl.Conv2D(8, (4,4), padding = 'same')(input_img)\n",
    "    A1 = tfl.ReLU()(Z1)\n",
    "    P1 = tfl.MaxPool2D((8,8), strides = 8, padding = 'same')(A1)\n",
    "    Z2 = tfl.Conv2D(16, (2,2), padding = 'same')(P1)\n",
    "    A2 = tfl.ReLU()(Z2)\n",
    "    P2 = tfl.MaxPool2D((4,4), strides = 4, padding = 'same')(A2)\n",
    "    F = tfl.Flatten()(P2)\n",
    "    outputs = tfl.Dense(6, activation = 'softmax')(F)\n",
    "    \n",
    "    # YOUR CODE ENDS HERE\n",
    "    model = tf.keras.Model(inputs=input_img, outputs=outputs)\n",
    "    return model"
   ]
  },
  {
   "cell_type": "code",
   "execution_count": 17,
   "metadata": {
    "deletable": false,
    "editable": false,
    "nbgrader": {
     "cell_type": "code",
     "checksum": "483d626949930a0b0ef20997e7c6ba72",
     "grade": true,
     "grade_id": "cell-45d22e92042174c9",
     "locked": true,
     "points": 10,
     "schema_version": 3,
     "solution": false,
     "task": false
    }
   },
   "outputs": [
    {
     "name": "stdout",
     "output_type": "stream",
     "text": [
      "Model: \"functional_2\"\n",
      "_________________________________________________________________\n",
      "Layer (type)                 Output Shape              Param #   \n",
      "=================================================================\n",
      "input_2 (InputLayer)         [(None, 64, 64, 3)]       0         \n",
      "_________________________________________________________________\n",
      "conv2d_3 (Conv2D)            (None, 64, 64, 8)         392       \n",
      "_________________________________________________________________\n",
      "re_lu_3 (ReLU)               (None, 64, 64, 8)         0         \n",
      "_________________________________________________________________\n",
      "max_pooling2d_3 (MaxPooling2 (None, 8, 8, 8)           0         \n",
      "_________________________________________________________________\n",
      "conv2d_4 (Conv2D)            (None, 8, 8, 16)          528       \n",
      "_________________________________________________________________\n",
      "re_lu_4 (ReLU)               (None, 8, 8, 16)          0         \n",
      "_________________________________________________________________\n",
      "max_pooling2d_4 (MaxPooling2 (None, 2, 2, 16)          0         \n",
      "_________________________________________________________________\n",
      "flatten_2 (Flatten)          (None, 64)                0         \n",
      "_________________________________________________________________\n",
      "dense_2 (Dense)              (None, 6)                 390       \n",
      "=================================================================\n",
      "Total params: 1,310\n",
      "Trainable params: 1,310\n",
      "Non-trainable params: 0\n",
      "_________________________________________________________________\n",
      "\u001b[32mAll tests passed!\u001b[0m\n"
     ]
    }
   ],
   "source": [
    "conv_model = convolutional_model((64, 64, 3))\n",
    "conv_model.compile(optimizer='adam',\n",
    "                  loss='categorical_crossentropy',\n",
    "                  metrics=['accuracy'])\n",
    "conv_model.summary()\n",
    "    \n",
    "output = [['InputLayer', [(None, 64, 64, 3)], 0],\n",
    "        ['Conv2D', (None, 64, 64, 8), 392, 'same', 'linear', 'GlorotUniform'],\n",
    "        ['ReLU', (None, 64, 64, 8), 0],\n",
    "        ['MaxPooling2D', (None, 8, 8, 8), 0, (8, 8), (8, 8), 'same'],\n",
    "        ['Conv2D', (None, 8, 8, 16), 528, 'same', 'linear', 'GlorotUniform'],\n",
    "        ['ReLU', (None, 8, 8, 16), 0],\n",
    "        ['MaxPooling2D', (None, 2, 2, 16), 0, (4, 4), (4, 4), 'same'],\n",
    "        ['Flatten', (None, 64), 0],\n",
    "        ['Dense', (None, 6), 390, 'softmax']]\n",
    "    \n",
    "comparator(summary(conv_model), output)"
   ]
  },
  {
   "cell_type": "markdown",
   "metadata": {},
   "source": [
    "Both the Sequential and Functional APIs return a TF Keras model object. The only difference is how inputs are handled inside the object model! "
   ]
  },
  {
   "cell_type": "markdown",
   "metadata": {},
   "source": [
    "<a name='4-4'></a>\n",
    "### 4.4 - Train the Model"
   ]
  },
  {
   "cell_type": "code",
   "execution_count": 18,
   "metadata": {},
   "outputs": [
    {
     "name": "stdout",
     "output_type": "stream",
     "text": [
      "Epoch 1/100\n",
      "17/17 [==============================] - 2s 101ms/step - loss: 1.8108 - accuracy: 0.1639 - val_loss: 1.7969 - val_accuracy: 0.1667\n",
      "Epoch 2/100\n",
      "17/17 [==============================] - 2s 95ms/step - loss: 1.7948 - accuracy: 0.1750 - val_loss: 1.7908 - val_accuracy: 0.1667\n",
      "Epoch 3/100\n",
      "17/17 [==============================] - 2s 101ms/step - loss: 1.7887 - accuracy: 0.1639 - val_loss: 1.7877 - val_accuracy: 0.1417\n",
      "Epoch 4/100\n",
      "17/17 [==============================] - 2s 100ms/step - loss: 1.7859 - accuracy: 0.2111 - val_loss: 1.7850 - val_accuracy: 0.1833\n",
      "Epoch 5/100\n",
      "17/17 [==============================] - 2s 106ms/step - loss: 1.7825 - accuracy: 0.2315 - val_loss: 1.7822 - val_accuracy: 0.2333\n",
      "Epoch 6/100\n",
      "17/17 [==============================] - 2s 106ms/step - loss: 1.7788 - accuracy: 0.2750 - val_loss: 1.7788 - val_accuracy: 0.2583\n",
      "Epoch 7/100\n",
      "17/17 [==============================] - 2s 106ms/step - loss: 1.7738 - accuracy: 0.3000 - val_loss: 1.7749 - val_accuracy: 0.3000\n",
      "Epoch 8/100\n",
      "17/17 [==============================] - 2s 100ms/step - loss: 1.7681 - accuracy: 0.3222 - val_loss: 1.7699 - val_accuracy: 0.3250\n",
      "Epoch 9/100\n",
      "17/17 [==============================] - 2s 100ms/step - loss: 1.7619 - accuracy: 0.3343 - val_loss: 1.7644 - val_accuracy: 0.3333\n",
      "Epoch 10/100\n",
      "17/17 [==============================] - 2s 100ms/step - loss: 1.7550 - accuracy: 0.3417 - val_loss: 1.7581 - val_accuracy: 0.3333\n",
      "Epoch 11/100\n",
      "17/17 [==============================] - 2s 101ms/step - loss: 1.7462 - accuracy: 0.3704 - val_loss: 1.7510 - val_accuracy: 0.3583\n",
      "Epoch 12/100\n",
      "17/17 [==============================] - 2s 100ms/step - loss: 1.7346 - accuracy: 0.3926 - val_loss: 1.7411 - val_accuracy: 0.3750\n",
      "Epoch 13/100\n",
      "17/17 [==============================] - 2s 100ms/step - loss: 1.7197 - accuracy: 0.3981 - val_loss: 1.7292 - val_accuracy: 0.3333\n",
      "Epoch 14/100\n",
      "17/17 [==============================] - 2s 106ms/step - loss: 1.7011 - accuracy: 0.4083 - val_loss: 1.7146 - val_accuracy: 0.3667\n",
      "Epoch 15/100\n",
      "17/17 [==============================] - 2s 106ms/step - loss: 1.6791 - accuracy: 0.4259 - val_loss: 1.6976 - val_accuracy: 0.3750\n",
      "Epoch 16/100\n",
      "17/17 [==============================] - 2s 106ms/step - loss: 1.6540 - accuracy: 0.4352 - val_loss: 1.6787 - val_accuracy: 0.3583\n",
      "Epoch 17/100\n",
      "17/17 [==============================] - 2s 101ms/step - loss: 1.6264 - accuracy: 0.4435 - val_loss: 1.6599 - val_accuracy: 0.3667\n",
      "Epoch 18/100\n",
      "17/17 [==============================] - 2s 100ms/step - loss: 1.5963 - accuracy: 0.4463 - val_loss: 1.6402 - val_accuracy: 0.3583\n",
      "Epoch 19/100\n",
      "17/17 [==============================] - 2s 100ms/step - loss: 1.5646 - accuracy: 0.4620 - val_loss: 1.6202 - val_accuracy: 0.3500\n",
      "Epoch 20/100\n",
      "17/17 [==============================] - 2s 100ms/step - loss: 1.5321 - accuracy: 0.4667 - val_loss: 1.5972 - val_accuracy: 0.3500\n",
      "Epoch 21/100\n",
      "17/17 [==============================] - 2s 100ms/step - loss: 1.4981 - accuracy: 0.4769 - val_loss: 1.5709 - val_accuracy: 0.3750\n",
      "Epoch 22/100\n",
      "17/17 [==============================] - 2s 100ms/step - loss: 1.4645 - accuracy: 0.4889 - val_loss: 1.5414 - val_accuracy: 0.4083\n",
      "Epoch 23/100\n",
      "17/17 [==============================] - 2s 106ms/step - loss: 1.4312 - accuracy: 0.5065 - val_loss: 1.5106 - val_accuracy: 0.4417\n",
      "Epoch 24/100\n",
      "17/17 [==============================] - 2s 100ms/step - loss: 1.3987 - accuracy: 0.5231 - val_loss: 1.4803 - val_accuracy: 0.4667\n",
      "Epoch 25/100\n",
      "17/17 [==============================] - 2s 100ms/step - loss: 1.3680 - accuracy: 0.5306 - val_loss: 1.4536 - val_accuracy: 0.4833\n",
      "Epoch 26/100\n",
      "17/17 [==============================] - 2s 95ms/step - loss: 1.3373 - accuracy: 0.5444 - val_loss: 1.4260 - val_accuracy: 0.4917\n",
      "Epoch 27/100\n",
      "17/17 [==============================] - 2s 100ms/step - loss: 1.3045 - accuracy: 0.5537 - val_loss: 1.3890 - val_accuracy: 0.4833\n",
      "Epoch 28/100\n",
      "17/17 [==============================] - 2s 95ms/step - loss: 1.2752 - accuracy: 0.5593 - val_loss: 1.3618 - val_accuracy: 0.5083\n",
      "Epoch 29/100\n",
      "17/17 [==============================] - 2s 100ms/step - loss: 1.2434 - accuracy: 0.5657 - val_loss: 1.3321 - val_accuracy: 0.5083\n",
      "Epoch 30/100\n",
      "17/17 [==============================] - 2s 100ms/step - loss: 1.2130 - accuracy: 0.5769 - val_loss: 1.3029 - val_accuracy: 0.5083\n",
      "Epoch 31/100\n",
      "17/17 [==============================] - 2s 100ms/step - loss: 1.1845 - accuracy: 0.5907 - val_loss: 1.2741 - val_accuracy: 0.5083\n",
      "Epoch 32/100\n",
      "17/17 [==============================] - 2s 100ms/step - loss: 1.1574 - accuracy: 0.5954 - val_loss: 1.2467 - val_accuracy: 0.5250\n",
      "Epoch 33/100\n",
      "17/17 [==============================] - 2s 100ms/step - loss: 1.1302 - accuracy: 0.6019 - val_loss: 1.2218 - val_accuracy: 0.5333\n",
      "Epoch 34/100\n",
      "17/17 [==============================] - 2s 100ms/step - loss: 1.1044 - accuracy: 0.6241 - val_loss: 1.1976 - val_accuracy: 0.5583\n",
      "Epoch 35/100\n",
      "17/17 [==============================] - 2s 96ms/step - loss: 1.0801 - accuracy: 0.6306 - val_loss: 1.1732 - val_accuracy: 0.5583\n",
      "Epoch 36/100\n",
      "17/17 [==============================] - 2s 100ms/step - loss: 1.0559 - accuracy: 0.6417 - val_loss: 1.1486 - val_accuracy: 0.5667\n",
      "Epoch 37/100\n",
      "17/17 [==============================] - 2s 100ms/step - loss: 1.0337 - accuracy: 0.6537 - val_loss: 1.1267 - val_accuracy: 0.5833\n",
      "Epoch 38/100\n",
      "17/17 [==============================] - 2s 106ms/step - loss: 1.0127 - accuracy: 0.6546 - val_loss: 1.1060 - val_accuracy: 0.5833\n",
      "Epoch 39/100\n",
      "17/17 [==============================] - 2s 100ms/step - loss: 0.9931 - accuracy: 0.6620 - val_loss: 1.0870 - val_accuracy: 0.5833\n",
      "Epoch 40/100\n",
      "17/17 [==============================] - 2s 100ms/step - loss: 0.9741 - accuracy: 0.6694 - val_loss: 1.0688 - val_accuracy: 0.5917\n",
      "Epoch 41/100\n",
      "17/17 [==============================] - 2s 105ms/step - loss: 0.9580 - accuracy: 0.6722 - val_loss: 1.0521 - val_accuracy: 0.6000\n",
      "Epoch 42/100\n",
      "17/17 [==============================] - 2s 106ms/step - loss: 0.9391 - accuracy: 0.6824 - val_loss: 1.0366 - val_accuracy: 0.6083\n",
      "Epoch 43/100\n",
      "17/17 [==============================] - 2s 106ms/step - loss: 0.9242 - accuracy: 0.6852 - val_loss: 1.0205 - val_accuracy: 0.5917\n",
      "Epoch 44/100\n",
      "17/17 [==============================] - 2s 105ms/step - loss: 0.9089 - accuracy: 0.6935 - val_loss: 1.0047 - val_accuracy: 0.5917\n",
      "Epoch 45/100\n",
      "17/17 [==============================] - 2s 100ms/step - loss: 0.8936 - accuracy: 0.7009 - val_loss: 0.9900 - val_accuracy: 0.6000\n",
      "Epoch 46/100\n",
      "17/17 [==============================] - 2s 106ms/step - loss: 0.8797 - accuracy: 0.7046 - val_loss: 0.9761 - val_accuracy: 0.5917\n",
      "Epoch 47/100\n",
      "17/17 [==============================] - 2s 106ms/step - loss: 0.8654 - accuracy: 0.7102 - val_loss: 0.9612 - val_accuracy: 0.5917\n",
      "Epoch 48/100\n",
      "17/17 [==============================] - 2s 101ms/step - loss: 0.8515 - accuracy: 0.7176 - val_loss: 0.9491 - val_accuracy: 0.5917\n",
      "Epoch 49/100\n",
      "17/17 [==============================] - 2s 100ms/step - loss: 0.8394 - accuracy: 0.7222 - val_loss: 0.9344 - val_accuracy: 0.5917\n",
      "Epoch 50/100\n",
      "17/17 [==============================] - 2s 100ms/step - loss: 0.8264 - accuracy: 0.7343 - val_loss: 0.9219 - val_accuracy: 0.6083\n",
      "Epoch 51/100\n",
      "17/17 [==============================] - 2s 100ms/step - loss: 0.8139 - accuracy: 0.7361 - val_loss: 0.9099 - val_accuracy: 0.6167\n",
      "Epoch 52/100\n",
      "17/17 [==============================] - 2s 100ms/step - loss: 0.8016 - accuracy: 0.7426 - val_loss: 0.8967 - val_accuracy: 0.6167\n",
      "Epoch 53/100\n",
      "17/17 [==============================] - 2s 95ms/step - loss: 0.7903 - accuracy: 0.7463 - val_loss: 0.8859 - val_accuracy: 0.6167\n",
      "Epoch 54/100\n",
      "17/17 [==============================] - 2s 100ms/step - loss: 0.7791 - accuracy: 0.7528 - val_loss: 0.8732 - val_accuracy: 0.6167\n",
      "Epoch 55/100\n",
      "17/17 [==============================] - 2s 101ms/step - loss: 0.7678 - accuracy: 0.7583 - val_loss: 0.8610 - val_accuracy: 0.6167\n",
      "Epoch 56/100\n",
      "17/17 [==============================] - 2s 100ms/step - loss: 0.7563 - accuracy: 0.7630 - val_loss: 0.8500 - val_accuracy: 0.6167\n",
      "Epoch 57/100\n",
      "17/17 [==============================] - 2s 100ms/step - loss: 0.7450 - accuracy: 0.7676 - val_loss: 0.8384 - val_accuracy: 0.6417\n",
      "Epoch 58/100\n",
      "17/17 [==============================] - 2s 100ms/step - loss: 0.7346 - accuracy: 0.7676 - val_loss: 0.8268 - val_accuracy: 0.6417\n",
      "Epoch 59/100\n",
      "17/17 [==============================] - 2s 106ms/step - loss: 0.7237 - accuracy: 0.7713 - val_loss: 0.8152 - val_accuracy: 0.6583\n",
      "Epoch 60/100\n",
      "17/17 [==============================] - 2s 101ms/step - loss: 0.7128 - accuracy: 0.7722 - val_loss: 0.8047 - val_accuracy: 0.6667\n",
      "Epoch 61/100\n",
      "17/17 [==============================] - 2s 100ms/step - loss: 0.7030 - accuracy: 0.7769 - val_loss: 0.7941 - val_accuracy: 0.6750\n",
      "Epoch 62/100\n",
      "17/17 [==============================] - 2s 100ms/step - loss: 0.6931 - accuracy: 0.7787 - val_loss: 0.7831 - val_accuracy: 0.6750\n",
      "Epoch 63/100\n",
      "17/17 [==============================] - 2s 106ms/step - loss: 0.6831 - accuracy: 0.7852 - val_loss: 0.7729 - val_accuracy: 0.6750\n",
      "Epoch 64/100\n",
      "17/17 [==============================] - 2s 100ms/step - loss: 0.6740 - accuracy: 0.7861 - val_loss: 0.7628 - val_accuracy: 0.6750\n",
      "Epoch 65/100\n",
      "17/17 [==============================] - 2s 100ms/step - loss: 0.6645 - accuracy: 0.7907 - val_loss: 0.7538 - val_accuracy: 0.6750\n",
      "Epoch 66/100\n",
      "17/17 [==============================] - 2s 100ms/step - loss: 0.6560 - accuracy: 0.7889 - val_loss: 0.7445 - val_accuracy: 0.6667\n",
      "Epoch 67/100\n",
      "17/17 [==============================] - 2s 100ms/step - loss: 0.6473 - accuracy: 0.7898 - val_loss: 0.7353 - val_accuracy: 0.6667\n",
      "Epoch 68/100\n",
      "17/17 [==============================] - 2s 100ms/step - loss: 0.6390 - accuracy: 0.7926 - val_loss: 0.7268 - val_accuracy: 0.6667\n",
      "Epoch 69/100\n",
      "17/17 [==============================] - 2s 101ms/step - loss: 0.6312 - accuracy: 0.7991 - val_loss: 0.7182 - val_accuracy: 0.6750\n",
      "Epoch 70/100\n",
      "17/17 [==============================] - 2s 100ms/step - loss: 0.6233 - accuracy: 0.8028 - val_loss: 0.7098 - val_accuracy: 0.6917\n",
      "Epoch 71/100\n",
      "17/17 [==============================] - 2s 100ms/step - loss: 0.6155 - accuracy: 0.8065 - val_loss: 0.7024 - val_accuracy: 0.6917\n",
      "Epoch 72/100\n",
      "17/17 [==============================] - 2s 100ms/step - loss: 0.6080 - accuracy: 0.8074 - val_loss: 0.6949 - val_accuracy: 0.7000\n",
      "Epoch 73/100\n",
      "17/17 [==============================] - 2s 100ms/step - loss: 0.6004 - accuracy: 0.8093 - val_loss: 0.6878 - val_accuracy: 0.7167\n",
      "Epoch 74/100\n",
      "17/17 [==============================] - 2s 101ms/step - loss: 0.5929 - accuracy: 0.8148 - val_loss: 0.6810 - val_accuracy: 0.7167\n",
      "Epoch 75/100\n",
      "17/17 [==============================] - 2s 100ms/step - loss: 0.5860 - accuracy: 0.8167 - val_loss: 0.6744 - val_accuracy: 0.7333\n",
      "Epoch 76/100\n",
      "17/17 [==============================] - 2s 100ms/step - loss: 0.5795 - accuracy: 0.8185 - val_loss: 0.6680 - val_accuracy: 0.7333\n",
      "Epoch 77/100\n",
      "17/17 [==============================] - 2s 105ms/step - loss: 0.5724 - accuracy: 0.8185 - val_loss: 0.6622 - val_accuracy: 0.7333\n",
      "Epoch 78/100\n",
      "17/17 [==============================] - 2s 101ms/step - loss: 0.5658 - accuracy: 0.8204 - val_loss: 0.6556 - val_accuracy: 0.7333\n",
      "Epoch 79/100\n",
      "17/17 [==============================] - 2s 101ms/step - loss: 0.5586 - accuracy: 0.8241 - val_loss: 0.6500 - val_accuracy: 0.7333\n",
      "Epoch 80/100\n",
      "17/17 [==============================] - 2s 100ms/step - loss: 0.5523 - accuracy: 0.8241 - val_loss: 0.6440 - val_accuracy: 0.7417\n",
      "Epoch 81/100\n",
      "17/17 [==============================] - 2s 100ms/step - loss: 0.5459 - accuracy: 0.8259 - val_loss: 0.6381 - val_accuracy: 0.7417\n",
      "Epoch 82/100\n",
      "17/17 [==============================] - 2s 100ms/step - loss: 0.5398 - accuracy: 0.8278 - val_loss: 0.6327 - val_accuracy: 0.7417\n",
      "Epoch 83/100\n",
      "17/17 [==============================] - 2s 100ms/step - loss: 0.5338 - accuracy: 0.8315 - val_loss: 0.6272 - val_accuracy: 0.7417\n",
      "Epoch 84/100\n",
      "17/17 [==============================] - 2s 100ms/step - loss: 0.5278 - accuracy: 0.8324 - val_loss: 0.6218 - val_accuracy: 0.7583\n",
      "Epoch 85/100\n",
      "17/17 [==============================] - 2s 100ms/step - loss: 0.5220 - accuracy: 0.8343 - val_loss: 0.6171 - val_accuracy: 0.7667\n",
      "Epoch 86/100\n",
      "17/17 [==============================] - 2s 106ms/step - loss: 0.5164 - accuracy: 0.8352 - val_loss: 0.6121 - val_accuracy: 0.7667\n",
      "Epoch 87/100\n",
      "17/17 [==============================] - 2s 106ms/step - loss: 0.5111 - accuracy: 0.8352 - val_loss: 0.6078 - val_accuracy: 0.7667\n",
      "Epoch 88/100\n",
      "17/17 [==============================] - 2s 100ms/step - loss: 0.5058 - accuracy: 0.8380 - val_loss: 0.6032 - val_accuracy: 0.7667\n",
      "Epoch 89/100\n",
      "17/17 [==============================] - 2s 106ms/step - loss: 0.5007 - accuracy: 0.8398 - val_loss: 0.5983 - val_accuracy: 0.7833\n",
      "Epoch 90/100\n",
      "17/17 [==============================] - 2s 106ms/step - loss: 0.4957 - accuracy: 0.8435 - val_loss: 0.5942 - val_accuracy: 0.7750\n",
      "Epoch 91/100\n",
      "17/17 [==============================] - 2s 101ms/step - loss: 0.4906 - accuracy: 0.8435 - val_loss: 0.5904 - val_accuracy: 0.7750\n",
      "Epoch 92/100\n",
      "17/17 [==============================] - 2s 100ms/step - loss: 0.4858 - accuracy: 0.8463 - val_loss: 0.5864 - val_accuracy: 0.7750\n",
      "Epoch 93/100\n",
      "17/17 [==============================] - 2s 100ms/step - loss: 0.4812 - accuracy: 0.8472 - val_loss: 0.5826 - val_accuracy: 0.7833\n",
      "Epoch 94/100\n",
      "17/17 [==============================] - 2s 106ms/step - loss: 0.4759 - accuracy: 0.8481 - val_loss: 0.5789 - val_accuracy: 0.7833\n",
      "Epoch 95/100\n",
      "17/17 [==============================] - 2s 100ms/step - loss: 0.4714 - accuracy: 0.8491 - val_loss: 0.5750 - val_accuracy: 0.7833\n",
      "Epoch 96/100\n",
      "17/17 [==============================] - 2s 100ms/step - loss: 0.4665 - accuracy: 0.8528 - val_loss: 0.5719 - val_accuracy: 0.7917\n",
      "Epoch 97/100\n",
      "17/17 [==============================] - 2s 106ms/step - loss: 0.4621 - accuracy: 0.8546 - val_loss: 0.5688 - val_accuracy: 0.7833\n",
      "Epoch 98/100\n",
      "17/17 [==============================] - 2s 106ms/step - loss: 0.4577 - accuracy: 0.8556 - val_loss: 0.5656 - val_accuracy: 0.7833\n",
      "Epoch 99/100\n",
      "17/17 [==============================] - 2s 101ms/step - loss: 0.4537 - accuracy: 0.8556 - val_loss: 0.5624 - val_accuracy: 0.7833\n",
      "Epoch 100/100\n",
      "17/17 [==============================] - 2s 100ms/step - loss: 0.4492 - accuracy: 0.8583 - val_loss: 0.5593 - val_accuracy: 0.7833\n"
     ]
    }
   ],
   "source": [
    "train_dataset = tf.data.Dataset.from_tensor_slices((X_train, Y_train)).batch(64)\n",
    "test_dataset = tf.data.Dataset.from_tensor_slices((X_test, Y_test)).batch(64)\n",
    "history = conv_model.fit(train_dataset, epochs=100, validation_data=test_dataset)"
   ]
  },
  {
   "cell_type": "markdown",
   "metadata": {},
   "source": [
    "<a name='5'></a>\n",
    "## 5 - History Object \n",
    "\n",
    "The history object is an output of the `.fit()` operation, and provides a record of all the loss and metric values in memory. It's stored as a dictionary that you can retrieve at `history.history`: "
   ]
  },
  {
   "cell_type": "code",
   "execution_count": 19,
   "metadata": {},
   "outputs": [
    {
     "data": {
      "text/plain": [
       "{'loss': [1.810766577720642,\n",
       "  1.7947642803192139,\n",
       "  1.7886979579925537,\n",
       "  1.7859464883804321,\n",
       "  1.7824761867523193,\n",
       "  1.7787845134735107,\n",
       "  1.7737807035446167,\n",
       "  1.7680631875991821,\n",
       "  1.761949896812439,\n",
       "  1.755011796951294,\n",
       "  1.7462306022644043,\n",
       "  1.7346001863479614,\n",
       "  1.7196907997131348,\n",
       "  1.7010616064071655,\n",
       "  1.679067611694336,\n",
       "  1.6539556980133057,\n",
       "  1.626409649848938,\n",
       "  1.5962530374526978,\n",
       "  1.564568042755127,\n",
       "  1.5321277379989624,\n",
       "  1.4980862140655518,\n",
       "  1.4644584655761719,\n",
       "  1.4311854839324951,\n",
       "  1.3986914157867432,\n",
       "  1.3680046796798706,\n",
       "  1.3373252153396606,\n",
       "  1.3044636249542236,\n",
       "  1.2751554250717163,\n",
       "  1.2433512210845947,\n",
       "  1.2129896879196167,\n",
       "  1.1844902038574219,\n",
       "  1.1573948860168457,\n",
       "  1.130204439163208,\n",
       "  1.1044358015060425,\n",
       "  1.080102562904358,\n",
       "  1.0558565855026245,\n",
       "  1.0337103605270386,\n",
       "  1.012695074081421,\n",
       "  0.9930833578109741,\n",
       "  0.974100649356842,\n",
       "  0.958012580871582,\n",
       "  0.9391279220581055,\n",
       "  0.9242324829101562,\n",
       "  0.9088746905326843,\n",
       "  0.8936474323272705,\n",
       "  0.8797189593315125,\n",
       "  0.865409791469574,\n",
       "  0.8515494465827942,\n",
       "  0.8394377827644348,\n",
       "  0.826397716999054,\n",
       "  0.8139182329177856,\n",
       "  0.8016157150268555,\n",
       "  0.7902612686157227,\n",
       "  0.7790692448616028,\n",
       "  0.767849326133728,\n",
       "  0.7563182711601257,\n",
       "  0.7449924945831299,\n",
       "  0.7345564961433411,\n",
       "  0.7236664295196533,\n",
       "  0.7127581834793091,\n",
       "  0.7029656171798706,\n",
       "  0.693120539188385,\n",
       "  0.6830546855926514,\n",
       "  0.6739794611930847,\n",
       "  0.6644619703292847,\n",
       "  0.6559532284736633,\n",
       "  0.647331953048706,\n",
       "  0.6390206217765808,\n",
       "  0.631197452545166,\n",
       "  0.6233075261116028,\n",
       "  0.6154929399490356,\n",
       "  0.6080127954483032,\n",
       "  0.6003990769386292,\n",
       "  0.5928875207901001,\n",
       "  0.5859548449516296,\n",
       "  0.5794968008995056,\n",
       "  0.5724244713783264,\n",
       "  0.5657878518104553,\n",
       "  0.5586445331573486,\n",
       "  0.5522724986076355,\n",
       "  0.5458540916442871,\n",
       "  0.539789617061615,\n",
       "  0.5337921977043152,\n",
       "  0.5278467535972595,\n",
       "  0.5220443606376648,\n",
       "  0.5164434313774109,\n",
       "  0.5111186504364014,\n",
       "  0.505789577960968,\n",
       "  0.5006741285324097,\n",
       "  0.4956556558609009,\n",
       "  0.49056583642959595,\n",
       "  0.48580530285835266,\n",
       "  0.4811505377292633,\n",
       "  0.4758886694908142,\n",
       "  0.47140640020370483,\n",
       "  0.46653231978416443,\n",
       "  0.4621315002441406,\n",
       "  0.45767736434936523,\n",
       "  0.45369234681129456,\n",
       "  0.4492050111293793],\n",
       " 'accuracy': [0.16388888657093048,\n",
       "  0.17499999701976776,\n",
       "  0.16388888657093048,\n",
       "  0.21111111342906952,\n",
       "  0.23148147761821747,\n",
       "  0.2750000059604645,\n",
       "  0.30000001192092896,\n",
       "  0.3222222328186035,\n",
       "  0.3342592716217041,\n",
       "  0.34166666865348816,\n",
       "  0.37037035822868347,\n",
       "  0.39259257912635803,\n",
       "  0.39814814925193787,\n",
       "  0.40833333134651184,\n",
       "  0.42592594027519226,\n",
       "  0.43518519401550293,\n",
       "  0.4435185194015503,\n",
       "  0.4462963044643402,\n",
       "  0.46203702688217163,\n",
       "  0.46666666865348816,\n",
       "  0.47685185074806213,\n",
       "  0.4888888895511627,\n",
       "  0.5064814686775208,\n",
       "  0.5231481194496155,\n",
       "  0.5305555462837219,\n",
       "  0.5444444417953491,\n",
       "  0.5537037253379822,\n",
       "  0.5592592358589172,\n",
       "  0.5657407641410828,\n",
       "  0.5768518447875977,\n",
       "  0.5907407402992249,\n",
       "  0.595370352268219,\n",
       "  0.6018518805503845,\n",
       "  0.6240741014480591,\n",
       "  0.6305555701255798,\n",
       "  0.6416666507720947,\n",
       "  0.6537036895751953,\n",
       "  0.654629647731781,\n",
       "  0.6620370149612427,\n",
       "  0.6694444417953491,\n",
       "  0.6722221970558167,\n",
       "  0.6824073791503906,\n",
       "  0.6851851940155029,\n",
       "  0.6935185194015503,\n",
       "  0.7009259462356567,\n",
       "  0.7046296000480652,\n",
       "  0.710185170173645,\n",
       "  0.7175925970077515,\n",
       "  0.7222222089767456,\n",
       "  0.7342592477798462,\n",
       "  0.7361111044883728,\n",
       "  0.7425925731658936,\n",
       "  0.7462962865829468,\n",
       "  0.7527777552604675,\n",
       "  0.7583333253860474,\n",
       "  0.7629629373550415,\n",
       "  0.7675926089286804,\n",
       "  0.7675926089286804,\n",
       "  0.7712963223457336,\n",
       "  0.7722222208976746,\n",
       "  0.7768518328666687,\n",
       "  0.7787036895751953,\n",
       "  0.7851851582527161,\n",
       "  0.7861111164093018,\n",
       "  0.7907407283782959,\n",
       "  0.7888888716697693,\n",
       "  0.789814829826355,\n",
       "  0.7925925850868225,\n",
       "  0.7990740537643433,\n",
       "  0.8027777671813965,\n",
       "  0.8064814805984497,\n",
       "  0.8074073791503906,\n",
       "  0.8092592358589172,\n",
       "  0.8148148059844971,\n",
       "  0.8166666626930237,\n",
       "  0.8185185194015503,\n",
       "  0.8185185194015503,\n",
       "  0.8203703761100769,\n",
       "  0.8240740895271301,\n",
       "  0.8240740895271301,\n",
       "  0.8259259462356567,\n",
       "  0.8277778029441833,\n",
       "  0.8314814567565918,\n",
       "  0.8324074149131775,\n",
       "  0.8342592716217041,\n",
       "  0.835185170173645,\n",
       "  0.835185170173645,\n",
       "  0.8379629850387573,\n",
       "  0.8398148417472839,\n",
       "  0.8435184955596924,\n",
       "  0.8435184955596924,\n",
       "  0.8462963104248047,\n",
       "  0.8472222089767456,\n",
       "  0.8481481671333313,\n",
       "  0.8490740656852722,\n",
       "  0.8527777791023254,\n",
       "  0.854629635810852,\n",
       "  0.855555534362793,\n",
       "  0.855555534362793,\n",
       "  0.8583333492279053],\n",
       " 'val_loss': [1.796913743019104,\n",
       "  1.790789008140564,\n",
       "  1.7877345085144043,\n",
       "  1.7850334644317627,\n",
       "  1.7821985483169556,\n",
       "  1.7788299322128296,\n",
       "  1.774872899055481,\n",
       "  1.7698760032653809,\n",
       "  1.7644073963165283,\n",
       "  1.7581326961517334,\n",
       "  1.750969648361206,\n",
       "  1.7411377429962158,\n",
       "  1.729201078414917,\n",
       "  1.7145886421203613,\n",
       "  1.697619080543518,\n",
       "  1.6787272691726685,\n",
       "  1.6599196195602417,\n",
       "  1.6401746273040771,\n",
       "  1.620200276374817,\n",
       "  1.5971649885177612,\n",
       "  1.5709251165390015,\n",
       "  1.541387677192688,\n",
       "  1.5105900764465332,\n",
       "  1.4802511930465698,\n",
       "  1.4535927772521973,\n",
       "  1.4259555339813232,\n",
       "  1.3890259265899658,\n",
       "  1.3617500066757202,\n",
       "  1.332131028175354,\n",
       "  1.3029104471206665,\n",
       "  1.2740988731384277,\n",
       "  1.2467459440231323,\n",
       "  1.2217628955841064,\n",
       "  1.1976312398910522,\n",
       "  1.173157811164856,\n",
       "  1.1485651731491089,\n",
       "  1.126737117767334,\n",
       "  1.1059633493423462,\n",
       "  1.086969017982483,\n",
       "  1.0688351392745972,\n",
       "  1.052111029624939,\n",
       "  1.0366424322128296,\n",
       "  1.0205366611480713,\n",
       "  1.004699945449829,\n",
       "  0.9899759292602539,\n",
       "  0.9760839939117432,\n",
       "  0.9612199068069458,\n",
       "  0.949066698551178,\n",
       "  0.9344142079353333,\n",
       "  0.9218855500221252,\n",
       "  0.9098538756370544,\n",
       "  0.896685779094696,\n",
       "  0.8859307765960693,\n",
       "  0.8732309937477112,\n",
       "  0.8610413670539856,\n",
       "  0.8500205874443054,\n",
       "  0.8383971452713013,\n",
       "  0.8268433213233948,\n",
       "  0.8151670694351196,\n",
       "  0.8046701550483704,\n",
       "  0.794070303440094,\n",
       "  0.7831224799156189,\n",
       "  0.7729089260101318,\n",
       "  0.7627773880958557,\n",
       "  0.7537776231765747,\n",
       "  0.7444924712181091,\n",
       "  0.7353476285934448,\n",
       "  0.7268050312995911,\n",
       "  0.7181560397148132,\n",
       "  0.7097621560096741,\n",
       "  0.7024070024490356,\n",
       "  0.6948649883270264,\n",
       "  0.6877636313438416,\n",
       "  0.6810356378555298,\n",
       "  0.6744093298912048,\n",
       "  0.6680008172988892,\n",
       "  0.6621727347373962,\n",
       "  0.6555508971214294,\n",
       "  0.6500234603881836,\n",
       "  0.6440326571464539,\n",
       "  0.6381397247314453,\n",
       "  0.63270103931427,\n",
       "  0.6272112131118774,\n",
       "  0.6217571496963501,\n",
       "  0.6170549988746643,\n",
       "  0.6121046543121338,\n",
       "  0.6077548265457153,\n",
       "  0.6031908392906189,\n",
       "  0.5983331203460693,\n",
       "  0.5942347049713135,\n",
       "  0.5904304385185242,\n",
       "  0.5864301323890686,\n",
       "  0.5826104283332825,\n",
       "  0.5788977742195129,\n",
       "  0.5750089287757874,\n",
       "  0.5719316005706787,\n",
       "  0.5688109993934631,\n",
       "  0.5656479597091675,\n",
       "  0.5623744130134583,\n",
       "  0.5592779517173767],\n",
       " 'val_accuracy': [0.1666666716337204,\n",
       "  0.1666666716337204,\n",
       "  0.14166666567325592,\n",
       "  0.18333333730697632,\n",
       "  0.23333333432674408,\n",
       "  0.25833332538604736,\n",
       "  0.30000001192092896,\n",
       "  0.32499998807907104,\n",
       "  0.3333333432674408,\n",
       "  0.3333333432674408,\n",
       "  0.3583333194255829,\n",
       "  0.375,\n",
       "  0.3333333432674408,\n",
       "  0.36666667461395264,\n",
       "  0.375,\n",
       "  0.3583333194255829,\n",
       "  0.36666667461395264,\n",
       "  0.3583333194255829,\n",
       "  0.3499999940395355,\n",
       "  0.3499999940395355,\n",
       "  0.375,\n",
       "  0.40833333134651184,\n",
       "  0.4416666626930237,\n",
       "  0.46666666865348816,\n",
       "  0.4833333194255829,\n",
       "  0.49166667461395264,\n",
       "  0.4833333194255829,\n",
       "  0.5083333253860474,\n",
       "  0.5083333253860474,\n",
       "  0.5083333253860474,\n",
       "  0.5083333253860474,\n",
       "  0.5249999761581421,\n",
       "  0.5333333611488342,\n",
       "  0.5583333373069763,\n",
       "  0.5583333373069763,\n",
       "  0.5666666626930237,\n",
       "  0.5833333134651184,\n",
       "  0.5833333134651184,\n",
       "  0.5833333134651184,\n",
       "  0.5916666388511658,\n",
       "  0.6000000238418579,\n",
       "  0.6083333492279053,\n",
       "  0.5916666388511658,\n",
       "  0.5916666388511658,\n",
       "  0.6000000238418579,\n",
       "  0.5916666388511658,\n",
       "  0.5916666388511658,\n",
       "  0.5916666388511658,\n",
       "  0.5916666388511658,\n",
       "  0.6083333492279053,\n",
       "  0.6166666746139526,\n",
       "  0.6166666746139526,\n",
       "  0.6166666746139526,\n",
       "  0.6166666746139526,\n",
       "  0.6166666746139526,\n",
       "  0.6166666746139526,\n",
       "  0.6416666507720947,\n",
       "  0.6416666507720947,\n",
       "  0.6583333611488342,\n",
       "  0.6666666865348816,\n",
       "  0.675000011920929,\n",
       "  0.675000011920929,\n",
       "  0.675000011920929,\n",
       "  0.675000011920929,\n",
       "  0.675000011920929,\n",
       "  0.6666666865348816,\n",
       "  0.6666666865348816,\n",
       "  0.6666666865348816,\n",
       "  0.675000011920929,\n",
       "  0.6916666626930237,\n",
       "  0.6916666626930237,\n",
       "  0.699999988079071,\n",
       "  0.7166666388511658,\n",
       "  0.7166666388511658,\n",
       "  0.7333333492279053,\n",
       "  0.7333333492279053,\n",
       "  0.7333333492279053,\n",
       "  0.7333333492279053,\n",
       "  0.7333333492279053,\n",
       "  0.7416666746139526,\n",
       "  0.7416666746139526,\n",
       "  0.7416666746139526,\n",
       "  0.7416666746139526,\n",
       "  0.7583333253860474,\n",
       "  0.7666666507720947,\n",
       "  0.7666666507720947,\n",
       "  0.7666666507720947,\n",
       "  0.7666666507720947,\n",
       "  0.7833333611488342,\n",
       "  0.7749999761581421,\n",
       "  0.7749999761581421,\n",
       "  0.7749999761581421,\n",
       "  0.7833333611488342,\n",
       "  0.7833333611488342,\n",
       "  0.7833333611488342,\n",
       "  0.7916666865348816,\n",
       "  0.7833333611488342,\n",
       "  0.7833333611488342,\n",
       "  0.7833333611488342,\n",
       "  0.7833333611488342]}"
      ]
     },
     "execution_count": 19,
     "metadata": {},
     "output_type": "execute_result"
    }
   ],
   "source": [
    "history.history"
   ]
  },
  {
   "cell_type": "markdown",
   "metadata": {},
   "source": [
    "Now visualize the loss over time using `history.history`: "
   ]
  },
  {
   "cell_type": "code",
   "execution_count": 20,
   "metadata": {},
   "outputs": [
    {
     "data": {
      "text/plain": [
       "[Text(0, 0.5, 'Accuracy'), Text(0.5, 0, 'Epoch')]"
      ]
     },
     "execution_count": 20,
     "metadata": {},
     "output_type": "execute_result"
    },
    {
     "data": {
      "image/png": "[encoded data removed]",
      "text/plain": [
       "<Figure size 864x576 with 1 Axes>"
      ]
     },
     "metadata": {
      "needs_background": "light"
     },
     "output_type": "display_data"
    },
    {
     "data": {
      "image/png": "[encoded data removed]",
      "text/plain": [
       "<Figure size 864x576 with 1 Axes>"
      ]
     },
     "metadata": {
      "needs_background": "light"
     },
     "output_type": "display_data"
    }
   ],
   "source": [
    "# The history.history[\"loss\"] entry is a dictionary with as many values as epochs that the\n",
    "# model was trained on. \n",
    "df_loss_acc = pd.DataFrame(history.history)\n",
    "df_loss= df_loss_acc[['loss','val_loss']]\n",
    "df_loss.rename(columns={'loss':'train','val_loss':'validation'},inplace=True)\n",
    "df_acc= df_loss_acc[['accuracy','val_accuracy']]\n",
    "df_acc.rename(columns={'accuracy':'train','val_accuracy':'validation'},inplace=True)\n",
    "df_loss.plot(title='Model loss',figsize=(12,8)).set(xlabel='Epoch',ylabel='Loss')\n",
    "df_acc.plot(title='Model Accuracy',figsize=(12,8)).set(xlabel='Epoch',ylabel='Accuracy')"
   ]
  },
  {
   "cell_type": "markdown",
   "metadata": {},
   "source": [
    "**Congratulations**! You've finished the assignment and built two models: One that recognizes  smiles, and another that recognizes SIGN language with almost 80% accuracy on the test set. In addition to that, you now also understand the applications of two Keras APIs: Sequential and Functional. Nicely done! \n",
    "\n",
    "By now, you know a bit about how the Functional API works and may have glimpsed the possibilities. In your next assignment, you'll really get a feel for its power when you get the opportunity to build a very deep ConvNet, using ResNets! "
   ]
  },
  {
   "cell_type": "markdown",
   "metadata": {},
   "source": [
    "<a name='6'></a>\n",
    "## 6 - Bibliography\n",
    "\n",
    "You're always encouraged to read the official documentation. To that end, you can find the docs for the Sequential and Functional APIs here: \n",
    "\n",
    "https://www.tensorflow.org/guide/keras/sequential_model\n",
    "\n",
    "https://www.tensorflow.org/guide/keras/functional"
   ]
  }
 ],
 "metadata": {
  "coursera": {
   "course_slug": "convolutional-neural-networks",
   "graded_item_id": "bwbJV",
   "launcher_item_id": "0TkXB"
  },
  "kernelspec": {
   "display_name": "Python 3",
   "language": "python",
   "name": "python3"
  },
  "language_info": {
   "codemirror_mode": {
    "name": "ipython",
    "version": 3
   },
   "file_extension": ".py",
   "mimetype": "text/x-python",
   "name": "python",
   "nbconvert_exporter": "python",
   "pygments_lexer": "ipython3",
   "version": "3.7.6"
  }
 },
 "nbformat": 4,
 "nbformat_minor": 2
}
